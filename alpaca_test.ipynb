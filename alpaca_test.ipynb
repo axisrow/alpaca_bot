{
 "cells": [
  {
   "cell_type": "code",
   "execution_count": 1,
   "metadata": {},
   "outputs": [
    {
     "name": "stdout",
     "output_type": "stream",
     "text": [
      "Cash (raw): -100000\n",
      "Cash (type): <class 'str'>\n",
      "Cash (float): $-100000.00\n",
      "Portfolio Value (raw): 98844.09\n",
      "Portfolio Value (type): <class 'str'>\n",
      "Portfolio Value (float): 98844.09\n",
      "\n",
      "Полная информация об аккаунте:\n",
      "id: a3bcee1c-9928-4855-91a8-e3c1e19cd279\n",
      "account_number: PA39QGEWBCFL\n",
      "status: ACTIVE\n",
      "crypto_status: ACTIVE\n",
      "currency: USD\n",
      "buying_power: 0\n",
      "regt_buying_power: 0\n",
      "daytrading_buying_power: 0\n",
      "non_marginable_buying_power: 0\n",
      "cash: -100000\n",
      "accrued_fees: 0\n",
      "pending_transfer_out: None\n",
      "pending_transfer_in: None\n",
      "portfolio_value: 98844.09\n",
      "pattern_day_trader: False\n",
      "trading_blocked: False\n",
      "transfers_blocked: False\n",
      "account_blocked: False\n",
      "created_at: 2025-02-16 15:14:32.967346+00:00\n",
      "trade_suspended_by_user: False\n",
      "multiplier: 2\n",
      "shorting_enabled: True\n",
      "equity: 98844.09\n",
      "last_equity: 99369.49622006533\n",
      "long_market_value: 198844.09\n",
      "short_market_value: 0\n",
      "initial_margin: 99422.04\n",
      "maintenance_margin: 59653.23\n",
      "last_maintenance_margin: 59810.85\n",
      "sma: 101082.47\n",
      "daytrade_count: 0\n",
      "options_buying_power: 39190.86\n",
      "options_approved_level: 3\n",
      "options_trading_level: 3\n"
     ]
    }
   ],
   "source": [
    "# Импортируем необходимые библиотеки\n",
    "from alpaca.trading.client import TradingClient\n",
    "import os\n",
    "from dotenv import load_dotenv\n",
    "\n",
    "# Загружаем переменные окружения\n",
    "load_dotenv()\n",
    "\n",
    "# Получаем ключи API из переменных окружения\n",
    "API_KEY = os.getenv('ALPACA_API_KEY')\n",
    "SECRET_KEY = os.getenv('ALPACA_SECRET_KEY')\n",
    "PAPER = True  # True для paper trading\n",
    "\n",
    "# Создаем экземпляр trading client\n",
    "trading_client = TradingClient(API_KEY, SECRET_KEY, paper=PAPER)\n",
    "\n",
    "# Получаем информацию об аккаунте\n",
    "account = trading_client.get_account()\n",
    "\n",
    "# Выводим информацию о cash\n",
    "print(f\"Cash (raw): {account.cash}\")\n",
    "print(f\"Cash (type): {type(account.cash)}\")\n",
    "print(f\"Cash (float): ${float(account.cash):.2f}\")\n",
    "\n",
    "# Выводим информацию о portfolio_value\n",
    "print(f\"Portfolio Value (raw): {account.portfolio_value}\")\n",
    "print(f\"Portfolio Value (type): {type(account.portfolio_value)}\")\n",
    "print(f\"Portfolio Value (float): {float(account.portfolio_value):.2f}\")\n",
    "\n",
    "# Дополнительно выведем полную информацию об аккаунте\n",
    "print(\"\\nПолная информация об аккаунте:\")\n",
    "for key, value in account.__dict__.items():\n",
    "    print(f\"{key}: {value}\")"
   ]
  }
 ],
 "metadata": {
  "kernelspec": {
   "display_name": "Python 3",
   "language": "python",
   "name": "python3"
  },
  "language_info": {
   "codemirror_mode": {
    "name": "ipython",
    "version": 3
   },
   "file_extension": ".py",
   "mimetype": "text/x-python",
   "name": "python",
   "nbconvert_exporter": "python",
   "pygments_lexer": "ipython3",
   "version": "3.10.11"
  }
 },
 "nbformat": 4,
 "nbformat_minor": 2
}
